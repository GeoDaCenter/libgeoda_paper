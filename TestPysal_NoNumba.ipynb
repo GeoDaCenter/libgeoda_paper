{
 "cells": [
  {
   "cell_type": "markdown",
   "metadata": {},
   "source": [
    "# PySAL with Numba Performance Test"
   ]
  },
  {
   "cell_type": "code",
   "execution_count": 1,
   "metadata": {},
   "outputs": [],
   "source": [
    "import sys\n",
    "import libpysal as lps\n",
    "import numpy as np\n",
    "import geopandas as gpd\n",
    "import esda\n",
    "import time"
   ]
  },
  {
   "cell_type": "markdown",
   "metadata": {},
   "source": [
    "## Testing method"
   ]
  },
  {
   "cell_type": "code",
   "execution_count": 2,
   "metadata": {},
   "outputs": [],
   "source": [
    "\n",
    "\n",
    "\"\"\"\n",
    "Usage: \n",
    "python3 perf_pysal.py FILE_PATH VARIABLE_NAME PERMUTATIONS CPU_THREADS\n",
    "python3 perf_pysal.py ./data/natregimes.shp HR60 999 1\n",
    "\n",
    "data_path = sys.argv[1]\n",
    "var_name = sys.argv[2]\n",
    "perms = int(sys.argv[3])\n",
    "cpu_threads = int(sys.argv[4])\n",
    "\"\"\"\n",
    "\n",
    "def test(data_path, var_name, perms, cpu_threads):\n",
    "    np.random.seed(12345)\n",
    "\n",
    "\n",
    "    # prepare the data and weights\n",
    "    gdf = gpd.read_file(data_path)\n",
    "    x = gdf[var_name]\n",
    "\n",
    "\n",
    "    if data_path == './data/Chicago_parcels_points.shp':\n",
    "        w = lps.weights.KNN.from_dataframe(gdf, k=10)\n",
    "    else:\n",
    "        w = lps.weights.Queen.from_dataframe(gdf)\n",
    "        # remove islands\n",
    "        if len(w.islands) > 0:\n",
    "            df_noi = gdf[~gdf.index.isin(w.islands)]\n",
    "            w = lps.weights.w_subset(w, df_noi.index.tolist())\n",
    "            x = df_noi[var_name]\n",
    "    w.transform = 'r'\n",
    "\n",
    "\n",
    "    # function to execute and time\n",
    "    start_time = time.time()\n",
    "    li = esda.moran.Moran_Local(x, w, permutations=perms, n_jobs=cpu_threads, keep_simulations=False)\n",
    "    run_time = time.time() - start_time\n",
    "\n",
    "    print(\"{0} {1} {2}: {3} seconds\".format(data_path, perms, cpu_threads, run_time))\n",
    "    return run_time"
   ]
  },
  {
   "cell_type": "markdown",
   "metadata": {},
   "source": [
    "## Data"
   ]
  },
  {
   "cell_type": "code",
   "execution_count": 3,
   "metadata": {},
   "outputs": [],
   "source": [
    "test_ds = {'./data/natregimes.shp' : 'HR60',\n",
    "          './data/us-sdoh-2014.shp' : 'ep_unem',\n",
    "          './data/NYC_Area2010_2data.shp' : 'CE01_02',\n",
    "          #'./data/Chicago_parcels_points.shp' : 'EstBuild'\n",
    "          }\n",
    "\n",
    "perm_set = [999, 9999, 99999]\n",
    "\n",
    "threads_set = [1, 8, 16]"
   ]
  },
  {
   "cell_type": "markdown",
   "metadata": {},
   "source": [
    "## Test"
   ]
  },
  {
   "cell_type": "code",
   "execution_count": 4,
   "metadata": {},
   "outputs": [
    {
     "name": "stdout",
     "output_type": "stream",
     "text": [
      "Numba not installed\n"
     ]
    }
   ],
   "source": [
    "try:\n",
    "    import numba\n",
    "    print(f\"Numba version installed: {numba.__version__}\")\n",
    "except:\n",
    "    print(\"Numba not installed\")"
   ]
  },
  {
   "cell_type": "code",
   "execution_count": 5,
   "metadata": {},
   "outputs": [
    {
     "name": "stderr",
     "output_type": "stream",
     "text": [
      "/Users/xun/Github/libgeoda_paper/venv/lib/python3.6/site-packages/libpysal/weights/weights.py:172: UserWarning: The weights matrix is not fully connected: \n",
      " There are 30 disconnected components.\n",
      " There are 15 islands with ids: 6540, 6583, 7933, 19288, 23844, 33314, 35600, 38699, 39317, 53310, 58715, 58849, 69632, 70049, 70050.\n",
      "  warnings.warn(message)\n",
      "/Users/xun/Github/libgeoda_paper/venv/lib/python3.6/site-packages/libpysal/weights/weights.py:172: UserWarning: The weights matrix is not fully connected: \n",
      " There are 15 disconnected components.\n",
      "  warnings.warn(message)\n"
     ]
    },
    {
     "name": "stdout",
     "output_type": "stream",
     "text": [
      "./data/us-sdoh-2014.shp 999 1: 25.524923086166382 seconds\n",
      "\t25.524923086166382 seconds.\n",
      "CPU times: user 4min 26s, sys: 50.2 s, total: 5min 16s\n",
      "Wall time: 1min 13s\n"
     ]
    }
   ],
   "source": [
    "%%time\n",
    "t = test('./data/us-sdoh-2014.shp', 'ep_unem', 999, 1)\n",
    "print(f\"\\t{t} seconds.\")"
   ]
  },
  {
   "cell_type": "code",
   "execution_count": null,
   "metadata": {},
   "outputs": [],
   "source": []
  }
 ],
 "metadata": {
  "kernelspec": {
   "display_name": "Python 3",
   "language": "python",
   "name": "python3"
  },
  "language_info": {
   "codemirror_mode": {
    "name": "ipython",
    "version": 3
   },
   "file_extension": ".py",
   "mimetype": "text/x-python",
   "name": "python",
   "nbconvert_exporter": "python",
   "pygments_lexer": "ipython3",
   "version": "3.6.6"
  }
 },
 "nbformat": 4,
 "nbformat_minor": 4
}
